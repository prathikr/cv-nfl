{
 "cells": [
  {
   "cell_type": "code",
   "execution_count": 73,
   "metadata": {},
   "outputs": [],
   "source": [
    "import pandas as pd\n",
    "import numpy as np\n",
    "import os\n",
    "from tqdm.notebook import tqdm"
   ]
  },
  {
   "cell_type": "code",
   "execution_count": 74,
   "metadata": {},
   "outputs": [
    {
     "data": {
      "text/html": [
       "<div>\n",
       "<style scoped>\n",
       "    .dataframe tbody tr th:only-of-type {\n",
       "        vertical-align: middle;\n",
       "    }\n",
       "\n",
       "    .dataframe tbody tr th {\n",
       "        vertical-align: top;\n",
       "    }\n",
       "\n",
       "    .dataframe thead th {\n",
       "        text-align: right;\n",
       "    }\n",
       "</style>\n",
       "<table border=\"1\" class=\"dataframe\">\n",
       "  <thead>\n",
       "    <tr style=\"text-align: right;\">\n",
       "      <th></th>\n",
       "      <th>image</th>\n",
       "      <th>label</th>\n",
       "      <th>left</th>\n",
       "      <th>width</th>\n",
       "      <th>top</th>\n",
       "      <th>height</th>\n",
       "    </tr>\n",
       "  </thead>\n",
       "  <tbody>\n",
       "    <tr>\n",
       "      <th>0</th>\n",
       "      <td>57503_000116_Endzone_frame443.jpg</td>\n",
       "      <td>Helmet</td>\n",
       "      <td>1099</td>\n",
       "      <td>16</td>\n",
       "      <td>456</td>\n",
       "      <td>15</td>\n",
       "    </tr>\n",
       "    <tr>\n",
       "      <th>1</th>\n",
       "      <td>57503_000116_Endzone_frame443.jpg</td>\n",
       "      <td>Helmet</td>\n",
       "      <td>1117</td>\n",
       "      <td>15</td>\n",
       "      <td>478</td>\n",
       "      <td>16</td>\n",
       "    </tr>\n",
       "    <tr>\n",
       "      <th>2</th>\n",
       "      <td>57503_000116_Endzone_frame443.jpg</td>\n",
       "      <td>Helmet</td>\n",
       "      <td>828</td>\n",
       "      <td>16</td>\n",
       "      <td>511</td>\n",
       "      <td>15</td>\n",
       "    </tr>\n",
       "    <tr>\n",
       "      <th>3</th>\n",
       "      <td>57503_000116_Endzone_frame443.jpg</td>\n",
       "      <td>Helmet</td>\n",
       "      <td>746</td>\n",
       "      <td>16</td>\n",
       "      <td>519</td>\n",
       "      <td>16</td>\n",
       "    </tr>\n",
       "    <tr>\n",
       "      <th>4</th>\n",
       "      <td>57503_000116_Endzone_frame443.jpg</td>\n",
       "      <td>Helmet</td>\n",
       "      <td>678</td>\n",
       "      <td>17</td>\n",
       "      <td>554</td>\n",
       "      <td>17</td>\n",
       "    </tr>\n",
       "  </tbody>\n",
       "</table>\n",
       "</div>"
      ],
      "text/plain": [
       "                               image   label  left  width  top  height\n",
       "0  57503_000116_Endzone_frame443.jpg  Helmet  1099     16  456      15\n",
       "1  57503_000116_Endzone_frame443.jpg  Helmet  1117     15  478      16\n",
       "2  57503_000116_Endzone_frame443.jpg  Helmet   828     16  511      15\n",
       "3  57503_000116_Endzone_frame443.jpg  Helmet   746     16  519      16\n",
       "4  57503_000116_Endzone_frame443.jpg  Helmet   678     17  554      17"
      ]
     },
     "execution_count": 74,
     "metadata": {},
     "output_type": "execute_result"
    }
   ],
   "source": [
    "df = pd.read_csv('image_labels.csv')\n",
    "df.head()"
   ]
  },
  {
   "cell_type": "code",
   "execution_count": 75,
   "metadata": {},
   "outputs": [
    {
     "name": "stdout",
     "output_type": "stream",
     "text": [
      "(193736, 12)\n"
     ]
    },
    {
     "data": {
      "text/html": [
       "<div>\n",
       "<style scoped>\n",
       "    .dataframe tbody tr th:only-of-type {\n",
       "        vertical-align: middle;\n",
       "    }\n",
       "\n",
       "    .dataframe tbody tr th {\n",
       "        vertical-align: top;\n",
       "    }\n",
       "\n",
       "    .dataframe thead th {\n",
       "        text-align: right;\n",
       "    }\n",
       "</style>\n",
       "<table border=\"1\" class=\"dataframe\">\n",
       "  <thead>\n",
       "    <tr style=\"text-align: right;\">\n",
       "      <th></th>\n",
       "      <th>image</th>\n",
       "      <th>label</th>\n",
       "      <th>left</th>\n",
       "      <th>width</th>\n",
       "      <th>top</th>\n",
       "      <th>height</th>\n",
       "      <th>x_center</th>\n",
       "      <th>y_center</th>\n",
       "      <th>x_center_scaled</th>\n",
       "      <th>y_center_scaled</th>\n",
       "      <th>width_scaled</th>\n",
       "      <th>height_scaled</th>\n",
       "    </tr>\n",
       "  </thead>\n",
       "  <tbody>\n",
       "    <tr>\n",
       "      <th>0</th>\n",
       "      <td>57503_000116_Endzone_frame443.jpg</td>\n",
       "      <td>Helmet</td>\n",
       "      <td>1099</td>\n",
       "      <td>16</td>\n",
       "      <td>456</td>\n",
       "      <td>15</td>\n",
       "      <td>1107.0</td>\n",
       "      <td>463.5</td>\n",
       "      <td>0.864844</td>\n",
       "      <td>0.643750</td>\n",
       "      <td>0.012500</td>\n",
       "      <td>0.020833</td>\n",
       "    </tr>\n",
       "    <tr>\n",
       "      <th>1</th>\n",
       "      <td>57503_000116_Endzone_frame443.jpg</td>\n",
       "      <td>Helmet</td>\n",
       "      <td>1117</td>\n",
       "      <td>15</td>\n",
       "      <td>478</td>\n",
       "      <td>16</td>\n",
       "      <td>1124.5</td>\n",
       "      <td>486.0</td>\n",
       "      <td>0.878516</td>\n",
       "      <td>0.675000</td>\n",
       "      <td>0.011719</td>\n",
       "      <td>0.022222</td>\n",
       "    </tr>\n",
       "    <tr>\n",
       "      <th>2</th>\n",
       "      <td>57503_000116_Endzone_frame443.jpg</td>\n",
       "      <td>Helmet</td>\n",
       "      <td>828</td>\n",
       "      <td>16</td>\n",
       "      <td>511</td>\n",
       "      <td>15</td>\n",
       "      <td>836.0</td>\n",
       "      <td>518.5</td>\n",
       "      <td>0.653125</td>\n",
       "      <td>0.720139</td>\n",
       "      <td>0.012500</td>\n",
       "      <td>0.020833</td>\n",
       "    </tr>\n",
       "    <tr>\n",
       "      <th>3</th>\n",
       "      <td>57503_000116_Endzone_frame443.jpg</td>\n",
       "      <td>Helmet</td>\n",
       "      <td>746</td>\n",
       "      <td>16</td>\n",
       "      <td>519</td>\n",
       "      <td>16</td>\n",
       "      <td>754.0</td>\n",
       "      <td>527.0</td>\n",
       "      <td>0.589063</td>\n",
       "      <td>0.731944</td>\n",
       "      <td>0.012500</td>\n",
       "      <td>0.022222</td>\n",
       "    </tr>\n",
       "    <tr>\n",
       "      <th>4</th>\n",
       "      <td>57503_000116_Endzone_frame443.jpg</td>\n",
       "      <td>Helmet</td>\n",
       "      <td>678</td>\n",
       "      <td>17</td>\n",
       "      <td>554</td>\n",
       "      <td>17</td>\n",
       "      <td>686.5</td>\n",
       "      <td>562.5</td>\n",
       "      <td>0.536328</td>\n",
       "      <td>0.781250</td>\n",
       "      <td>0.013281</td>\n",
       "      <td>0.023611</td>\n",
       "    </tr>\n",
       "  </tbody>\n",
       "</table>\n",
       "</div>"
      ],
      "text/plain": [
       "                               image   label  left  width  top  height  \\\n",
       "0  57503_000116_Endzone_frame443.jpg  Helmet  1099     16  456      15   \n",
       "1  57503_000116_Endzone_frame443.jpg  Helmet  1117     15  478      16   \n",
       "2  57503_000116_Endzone_frame443.jpg  Helmet   828     16  511      15   \n",
       "3  57503_000116_Endzone_frame443.jpg  Helmet   746     16  519      16   \n",
       "4  57503_000116_Endzone_frame443.jpg  Helmet   678     17  554      17   \n",
       "\n",
       "   x_center  y_center  x_center_scaled  y_center_scaled  width_scaled  \\\n",
       "0    1107.0     463.5         0.864844         0.643750      0.012500   \n",
       "1    1124.5     486.0         0.878516         0.675000      0.011719   \n",
       "2     836.0     518.5         0.653125         0.720139      0.012500   \n",
       "3     754.0     527.0         0.589063         0.731944      0.012500   \n",
       "4     686.5     562.5         0.536328         0.781250      0.013281   \n",
       "\n",
       "   height_scaled  \n",
       "0       0.020833  \n",
       "1       0.022222  \n",
       "2       0.020833  \n",
       "3       0.022222  \n",
       "4       0.023611  "
      ]
     },
     "execution_count": 75,
     "metadata": {},
     "output_type": "execute_result"
    }
   ],
   "source": [
    "df['x_center'] = df['left'] + df['width'] / 2\n",
    "df['y_center'] = df['top'] + df['height'] / 2\n",
    "\n",
    "df['x_center_scaled'] = df['x_center'] / 1280\n",
    "df['y_center_scaled'] = df['y_center'] / 720\n",
    "\n",
    "df['width_scaled'] = df['width'] / 1280\n",
    "df['height_scaled'] = df['height'] / 720\n",
    "\n",
    "print(df.shape)\n",
    "df.head()"
   ]
  },
  {
   "cell_type": "code",
   "execution_count": 76,
   "metadata": {},
   "outputs": [],
   "source": [
    "if not os.path.exists('labels'):\n",
    "    os.mkdir('labels')"
   ]
  },
  {
   "cell_type": "code",
   "execution_count": 77,
   "metadata": {},
   "outputs": [
    {
     "data": {
      "application/vnd.jupyter.widget-view+json": {
       "model_id": "d0efcbc82be843638b6e0951dc223bdc",
       "version_major": 2,
       "version_minor": 0
      },
      "text/plain": [
       "HBox(children=(IntProgress(value=0, max=9947), HTML(value='')))"
      ]
     },
     "metadata": {},
     "output_type": "display_data"
    },
    {
     "name": "stdout",
     "output_type": "stream",
     "text": [
      "\n",
      "CPU times: user 2min 32s, sys: 7.39 s, total: 2min 40s\n",
      "Wall time: 3min 6s\n"
     ]
    }
   ],
   "source": [
    "%%time\n",
    "\n",
    "filenames = []\n",
    "\n",
    "for img in tqdm(sorted(df.image.unique()), total=len(df.image.unique())):\n",
    "    filenames.append('data/custom/images/' + img)\n",
    "    \n",
    "    temp = df[df.image == img]\n",
    "    annotations = []\n",
    "    for _,row in temp.iterrows():\n",
    "        annotations.append([0, row['x_center_scaled'], row['y_center_scaled'], row['width_scaled'], row['height_scaled']])\n",
    "\n",
    "    np_annotations = np.array(annotations)\n",
    "    np.savetxt('labels/' + str(img)[:-4] + '.txt', np_annotations, fmt='%i %1.4f %1.4f %1.4f %1.4f')"
   ]
  },
  {
   "cell_type": "code",
   "execution_count": 78,
   "metadata": {},
   "outputs": [],
   "source": [
    "train_idx = int(len(filenames) * 0.8)\n",
    "train, test = filenames[:train_idx], filenames[train_idx:]\n",
    "np_train = np.array(train)\n",
    "np_test = np.array(test)\n",
    "np.savetxt('train.txt', np_train, fmt='%s')\n",
    "np.savetxt('valid.txt', np_test, fmt='%s')"
   ]
  },
  {
   "cell_type": "code",
   "execution_count": null,
   "metadata": {},
   "outputs": [],
   "source": []
  }
 ],
 "metadata": {
  "kernelspec": {
   "display_name": "Python 3",
   "language": "python",
   "name": "python3"
  },
  "language_info": {
   "codemirror_mode": {
    "name": "ipython",
    "version": 3
   },
   "file_extension": ".py",
   "mimetype": "text/x-python",
   "name": "python",
   "nbconvert_exporter": "python",
   "pygments_lexer": "ipython3",
   "version": "3.7.3"
  }
 },
 "nbformat": 4,
 "nbformat_minor": 2
}
